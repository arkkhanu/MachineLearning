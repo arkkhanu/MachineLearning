{
 "cells": [
  {
   "cell_type": "code",
   "execution_count": 155,
   "metadata": {},
   "outputs": [],
   "source": [
    "import pandas as pd \n",
    "import pickle\n",
    "import sklearn\n",
    "import re\n",
    "import pickle\n",
    "import tensorflow as tf\n",
    "import matplotlib.pyplot as plt\n",
    "from tensorflow.keras import layers\n",
    "from tensorflow.keras import Model\n",
    "import numpy as np\n",
    "from tensorflow import keras\n",
    "import pydot\n",
    "from sklearn.preprocessing import OneHotEncoder\n",
    "from xgboost import XGBClassifier\n"
   ]
  },
  {
   "cell_type": "code",
   "execution_count": 156,
   "metadata": {},
   "outputs": [],
   "source": [
    "def unpickle(file):\n",
    "    with open(file, 'rb') as fo:\n",
    "        dict1 = pickle.load(fo, encoding='bytes')\n",
    "    return dict1\n",
    "pd_tr = pd.DataFrame()\n",
    "tr_y = pd.DataFrame()\n",
    "for i in range(1,6):\n",
    "    data = unpickle('cifar-10-batches-py/data_batch_' + str(i))\n",
    "    pd_tr = pd_tr.append(pd.DataFrame(data[b'data']))\n",
    "    tr_y = tr_y.append(pd.DataFrame(data[b'labels']))\n",
    "    pd_tr['labels'] = tr_y\n",
    "tr_x = np.asarray(pd_tr.iloc[:, :3072])\n",
    "tr_y = np.asarray(pd_tr['labels'])\n",
    "ts_x = np.asarray(unpickle('cifar-10-batches-py/test_batch')[b'data'])\n",
    "ts_y = np.asarray(unpickle('cifar-10-batches-py/test_batch')[b'labels'])    \n",
    "labels = unpickle('cifar-10-batches-py/batches.meta')[b'label_names']\n",
    "def plot_CIFAR(ind):\n",
    "    arr = tr_x[ind]\n",
    "    R = arr[0:1024].reshape(32,32)/255.0\n",
    "    G = arr[1024:2048].reshape(32,32)/255.0\n",
    "    B = arr[2048:].reshape(32,32)/255.0\n",
    "    img = np.dstack((R,G,B))\n",
    "    title = re.sub('[!@#$b]', '', str(labels[tr_y[ind]]))\n",
    "    fig = plt.figure(figsize=(3,3))\n",
    "    ax = fig.add_subplot(111)\n",
    "    ax.imshow(img,interpolation='bicubic')\n",
    "    ax.set_title('Category = '+ title,fontsize =15)"
   ]
  },
  {
   "cell_type": "code",
   "execution_count": 157,
   "metadata": {},
   "outputs": [
    {
     "data": {
      "image/png": "[encoded data removed]",
      "text/plain": [
       "<Figure size 216x216 with 1 Axes>"
      ]
     },
     "metadata": {
      "needs_background": "light"
     },
     "output_type": "display_data"
    }
   ],
   "source": [
    "plot_CIFAR(100)"
   ]
  },
  {
   "cell_type": "code",
   "execution_count": 158,
   "metadata": {},
   "outputs": [
    {
     "data": {
      "text/plain": [
       "<tf.Tensor: shape=(50000, 3072), dtype=uint8, numpy=\n",
       "array([[ 59,  43,  50, ..., 140,  84,  72],\n",
       "       [154, 126, 105, ..., 139, 142, 144],\n",
       "       [255, 253, 253, ...,  83,  83,  84],\n",
       "       ...,\n",
       "       [ 35,  40,  42, ...,  77,  66,  50],\n",
       "       [189, 186, 185, ..., 169, 171, 171],\n",
       "       [229, 236, 234, ..., 173, 162, 161]], dtype=uint8)>"
      ]
     },
     "execution_count": 158,
     "metadata": {},
     "output_type": "execute_result"
    }
   ],
   "source": [
    "ohe = OneHotEncoder()\n",
    "ohe.fit(tr_y.reshape(-1,1))\n",
    "tr_ye = ohe.transform(tr_y.reshape(-1,1))\n",
    "tr_ya=tr_ye.toarray()\n",
    "for i in range(len(tr_ya)):\n",
    "    a=tf.math.argmax(tr_ya[i])\n",
    "    tr_ya[i][np.array(a)]=1\n",
    "tr_xa=tf.constant(tr_x)\n",
    "tr_xa"
   ]
  },
  {
   "cell_type": "code",
   "execution_count": 179,
   "metadata": {},
   "outputs": [],
   "source": [
    "model=keras.Sequential(\n",
    "[\n",
    "    layers.Dense(50,activation=\"relu\"),\n",
    "    layers.Dropout(.2),\n",
    "    layers.Dense(50,activation=\"relu\"),\n",
    "    layers.Dropout(.2),\n",
    "    layers.Dense(10,activation=\"relu\")\n",
    "])\n",
    "model.compile(optimizer='adam',loss=tf.keras.losses.BinaryCrossentropy(from_logits=True),metrics=['accuracy'])"
   ]
  },
  {
   "cell_type": "code",
   "execution_count": 180,
   "metadata": {},
   "outputs": [
    {
     "name": "stdout",
     "output_type": "stream",
     "text": [
      "Epoch 1/5\n",
      "500/500 [==============================] - 3s 6ms/step - loss: 1.2169 - accuracy: 0.1006\n",
      "Epoch 2/5\n",
      "500/500 [==============================] - 3s 7ms/step - loss: 0.7059 - accuracy: 0.1001\n",
      "Epoch 3/5\n",
      "500/500 [==============================] - 4s 8ms/step - loss: 0.6981 - accuracy: 0.1000\n",
      "Epoch 4/5\n",
      "500/500 [==============================] - 3s 6ms/step - loss: 0.6967 - accuracy: 0.1001\n",
      "Epoch 5/5\n",
      "500/500 [==============================] - 3s 7ms/step - loss: 0.6954 - accuracy: 0.1000\n"
     ]
    }
   ],
   "source": [
    "op=model.fit(tr_xa,tr_ya, epochs=5, batch_size=100)"
   ]
  },
  {
   "cell_type": "code",
   "execution_count": 164,
   "metadata": {},
   "outputs": [
    {
     "name": "stderr",
     "output_type": "stream",
     "text": [
      "E:\\SiddC\\ML_ANN\\Anaconda\\Anaconda\\lib\\site-packages\\sklearn\\linear_model\\_logistic.py:940: ConvergenceWarning: lbfgs failed to converge (status=1):\n",
      "STOP: TOTAL NO. of ITERATIONS REACHED LIMIT.\n",
      "\n",
      "Increase the number of iterations (max_iter) or scale the data as shown in:\n",
      "    https://scikit-learn.org/stable/modules/preprocessing.html\n",
      "Please also refer to the documentation for alternative solver options:\n",
      "    https://scikit-learn.org/stable/modules/linear_model.html#logistic-regression\n",
      "  extra_warning_msg=_LOGISTIC_SOLVER_CONVERGENCE_MSG)\n"
     ]
    },
    {
     "name": "stdout",
     "output_type": "stream",
     "text": [
      "0.40016\n"
     ]
    }
   ],
   "source": [
    "from sklearn.linear_model import LogisticRegression\n",
    "from sklearn.metrics import accuracy_score\n",
    "from sklearn.model_selection import train_test_split\n",
    "tx,vx,ty,vy=train_test_split(tr_x,tr_y)\n",
    "LR=LogisticRegression().fit(tx,ty)\n",
    "print(accuracy_score(vy,LR.predict(vx)))"
   ]
  },
  {
   "cell_type": "code",
   "execution_count": null,
   "metadata": {},
   "outputs": [],
   "source": []
  }
 ],
 "metadata": {
  "kernelspec": {
   "display_name": "Python 3",
   "language": "python",
   "name": "python3"
  },
  "language_info": {
   "codemirror_mode": {
    "name": "ipython",
    "version": 3
   },
   "file_extension": ".py",
   "mimetype": "text/x-python",
   "name": "python",
   "nbconvert_exporter": "python",
   "pygments_lexer": "ipython3",
   "version": "3.7.6"
  }
 },
 "nbformat": 4,
 "nbformat_minor": 4
}
