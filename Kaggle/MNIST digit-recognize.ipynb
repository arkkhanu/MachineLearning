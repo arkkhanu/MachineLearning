{
 "cells": [
  {
   "cell_type": "code",
   "execution_count": 91,
   "metadata": {},
   "outputs": [],
   "source": [
    "import tensorflow as tf\n",
    "import pandas as pd\n",
    "import numpy as np\n",
    "import matplotlib.pyplot as plt\n",
    "df1=pd.read_csv(\"train.csv\")\n",
    "df2=pd.read_csv(\"test.csv\")"
   ]
  },
  {
   "cell_type": "code",
   "execution_count": 92,
   "metadata": {},
   "outputs": [
    {
     "name": "stdout",
     "output_type": "stream",
     "text": [
      "Number : 7\n"
     ]
    },
    {
     "data": {
      "image/png": "[encoded data removed]",
      "text/plain": [
       "<Figure size 432x288 with 1 Axes>"
      ]
     },
     "metadata": {
      "needs_background": "light"
     },
     "output_type": "display_data"
    }
   ],
   "source": [
    "s1=df1.iloc[120,1:]\n",
    "s1=np.array(s1).reshape((28,28))\n",
    "print('Number :',df1.iloc[120,0])\n",
    "imgplot = plt.imshow(s1)"
   ]
  },
  {
   "cell_type": "code",
   "execution_count": 100,
   "metadata": {},
   "outputs": [],
   "source": [
    "from sklearn.preprocessing import OneHotEncoder \n",
    "from sklearn.compose import ColumnTransformer \n",
    "\n",
    "onehot_encoder = OneHotEncoder(sparse=False)\n",
    "df3 = pd.DataFrame(onehot_encoder.fit_transform(np.array(df1['label']).reshape((-1,1))))\n",
    "for col in df3.columns:\n",
    "    df1[col]=df3[col]\n"
   ]
  },
  {
   "cell_type": "code",
   "execution_count": 119,
   "metadata": {},
   "outputs": [],
   "source": [
    "from tensorflow import keras\n",
    "from tensorflow.keras import layers\n",
    "model=keras.Sequential(\n",
    "    [\n",
    "    layers.Dense(5,activation=\"relu\"),\n",
    "    layers.Dense(5,activation=\"relu\"),\n",
    "    layers.Dense(5,activation=\"relu\"),\n",
    "    layers.Dense(10,activation=\"softmax\"),\n",
    "    ])\n",
    "x=(df1.iloc[:,1:785])\n",
    "y=df1.drop(x.columns,axis=1)\n",
    "y=np.array(y.drop('label',axis=1))\n",
    "x=np.array(x)"
   ]
  },
  {
   "cell_type": "code",
   "execution_count": 142,
   "metadata": {},
   "outputs": [],
   "source": [
    "op=model(x)"
   ]
  },
  {
   "cell_type": "code",
   "execution_count": 146,
   "metadata": {},
   "outputs": [
    {
     "data": {
      "text/plain": [
       "<tf.Tensor: shape=(10,), dtype=float32, numpy=\n",
       "array([1.0364851e-15, 1.9500393e-17, 0.0000000e+00, 1.2497377e-17,\n",
       "       2.8009989e-22, 0.0000000e+00, 2.3346743e-25, 1.6017582e-26,\n",
       "       8.3040513e-18, 1.0000000e+00], dtype=float32)>"
      ]
     },
     "execution_count": 146,
     "metadata": {},
     "output_type": "execute_result"
    }
   ],
   "source": [
    "op[1000]"
   ]
  },
  {
   "cell_type": "code",
   "execution_count": 144,
   "metadata": {},
   "outputs": [],
   "source": [
    "op1=tf.math.argmax(op,axis=1)"
   ]
  }
 ],
 "metadata": {
  "kernelspec": {
   "display_name": "Python 3",
   "language": "python",
   "name": "python3"
  },
  "language_info": {
   "codemirror_mode": {
    "name": "ipython",
    "version": 3
   },
   "file_extension": ".py",
   "mimetype": "text/x-python",
   "name": "python",
   "nbconvert_exporter": "python",
   "pygments_lexer": "ipython3",
   "version": "3.7.7"
  }
 },
 "nbformat": 4,
 "nbformat_minor": 4
}
